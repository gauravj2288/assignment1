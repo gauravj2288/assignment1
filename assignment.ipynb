{
 "cells": [
  {
   "cell_type": "code",
   "execution_count": 35,
   "id": "b768f73c",
   "metadata": {},
   "outputs": [
    {
     "name": "stdout",
     "output_type": "stream",
     "text": [
      "Note: you may need to restart the kernel to use updated packages.\n"
     ]
    },
    {
     "name": "stderr",
     "output_type": "stream",
     "text": [
      "\n",
      "[notice] A new release of pip is available: 24.0 -> 25.2\n",
      "[notice] To update, run: python.exe -m pip install --upgrade pip\n"
     ]
    }
   ],
   "source": [
    "%pip install --upgrade --quiet langchain-exa "
   ]
  },
  {
   "cell_type": "code",
   "execution_count": 9,
   "id": "d7d75d96",
   "metadata": {},
   "outputs": [],
   "source": [
    "from dotenv import load_dotenv\n",
    "import os\n",
    "load_dotenv()\n",
    "\n",
    "# Set the API key as an environment variable for LangChain\n",
    "os.environ[\"GOOGLE_API_KEY\"] = os.getenv('GOOGLE_API_KEY')"
   ]
  },
  {
   "cell_type": "code",
   "execution_count": null,
   "id": "f195c018",
   "metadata": {},
   "outputs": [],
   "source": [
    "!pip install mlflow"
   ]
  },
  {
   "cell_type": "code",
   "execution_count": 4,
   "id": "1ebab8ae",
   "metadata": {},
   "outputs": [
    {
     "name": "stdout",
     "output_type": "stream",
     "text": [
      "^C\n"
     ]
    }
   ],
   "source": [
    "!python -m mlflow server --host 127.0.0.1 --port 5000"
   ]
  },
  {
   "cell_type": "code",
   "execution_count": 5,
   "id": "58c5d3de",
   "metadata": {},
   "outputs": [],
   "source": [
    "import mlflow"
   ]
  },
  {
   "cell_type": "code",
   "execution_count": 14,
   "id": "af76bb92",
   "metadata": {},
   "outputs": [],
   "source": [
    "from langchain_core.prompts import ChatPromptTemplate\n"
   ]
  },
  {
   "cell_type": "code",
   "execution_count": 27,
   "id": "64e6fa9b",
   "metadata": {},
   "outputs": [],
   "source": [
    "from langchain_exa import ExaSearchResults"
   ]
  },
  {
   "cell_type": "code",
   "execution_count": 13,
   "id": "27982ae1",
   "metadata": {},
   "outputs": [],
   "source": [
    "from langchain_core.runnables import RunnablePassthrough, RunnableLambda"
   ]
  },
  {
   "cell_type": "code",
   "execution_count": 15,
   "id": "a9fe2e11",
   "metadata": {},
   "outputs": [],
   "source": [
    "from langchain.chat_models import init_chat_model\n",
    "model_name='gemini-2.0-flash'\n",
    "model = init_chat_model(model_name, model_provider=\"google_genai\")"
   ]
  },
  {
   "cell_type": "code",
   "execution_count": 16,
   "id": "6c2cb334",
   "metadata": {},
   "outputs": [],
   "source": [
    "from langchain_core.output_parsers import JsonOutputParser, PydanticOutputParser"
   ]
  },
  {
   "cell_type": "code",
   "execution_count": 20,
   "id": "8446338a",
   "metadata": {},
   "outputs": [],
   "source": [
    "from langchain_core.tools import Tool"
   ]
  },
  {
   "cell_type": "code",
   "execution_count": 48,
   "id": "a0faf129",
   "metadata": {},
   "outputs": [],
   "source": [
    "from mlflow.entities import SpanType"
   ]
  },
  {
   "cell_type": "code",
   "execution_count": 38,
   "id": "219519b0",
   "metadata": {},
   "outputs": [
    {
     "name": "stderr",
     "output_type": "stream",
     "text": [
      "2025/09/21 16:47:31 INFO mlflow.tracking.fluent: Experiment with name 'sentiment-detection2' does not exist. Creating a new experiment.\n"
     ]
    },
    {
     "data": {
      "text/plain": [
       "<Experiment: artifact_location='mlflow-artifacts:/688605823153491612', creation_time=1758453451985, experiment_id='688605823153491612', last_update_time=1758453451985, lifecycle_stage='active', name='sentiment-detection2', tags={}>"
      ]
     },
     "execution_count": 38,
     "metadata": {},
     "output_type": "execute_result"
    }
   ],
   "source": [
    "mlflow.set_tracking_uri(\"http://127.0.0.1:5000\")\n",
    "mlflow.set_experiment(\"sentiment-detection2\")"
   ]
  },
  {
   "cell_type": "code",
   "execution_count": 39,
   "id": "a1ddff18",
   "metadata": {},
   "outputs": [],
   "source": [
    "mlflow.langchain.autolog()"
   ]
  },
  {
   "cell_type": "code",
   "execution_count": 54,
   "id": "222777a3",
   "metadata": {},
   "outputs": [],
   "source": [
    "@mlflow.trace(span_type=SpanType.TOOL,  attributes={\"FUNCTYPE\": \"No API\"})\n",
    "def get_stock_symbol(company_name):\n",
    "    cmp = {\"TCS\": \"TCS\", \"INFOSYS\": \"INFY\", \"RELIANCE\": \"RELIANCE\", \"WIPRO\": \"WIPRO\", \"ORACLE\": \"ORCL\", \"GOOGLE\": \"GOOG\", \"MICROSOFT\": \"MSFT\", \"APPLE\": \"AAPL\", \"AMAZON\": \"AMZN\", \"TESLA\": \"TSLA\", \"NVIDIA\": \"NVDA\", \"MICROSOFT\": \"MSFT\", \"APPLE\": \"AAPL\", \"AMAZON\": \"AMZN\", \"TESLA\": \"TSLA\", \"NVIDIA\": \"NVDA\"}\n",
    "    return cmp[company_name]\n",
    "    # return {\"company_name\": company_name, \"stock_code\": cmp[company_name]}"
   ]
  },
  {
   "cell_type": "code",
   "execution_count": 55,
   "id": "329d9663",
   "metadata": {},
   "outputs": [],
   "source": [
    "@mlflow.trace(span_type=\"func\",  attributes={\"SearchAPI\": \"Exa Search\"}, name=\"NewsFunc\")\n",
    "def get_news(stock_code):\n",
    "\n",
    "    search_tools = ExaSearchResults(exa_api_key=\"83499386-0b01-4114-ad1e-b8f57e62a1d9\")\n",
    "    print(f\"Top news for {stock_code}\")\n",
    "    op = search_tools._run(f\"Get the latest news for the stock symbol{stock_code}\", num_results=1, summary=True)\n",
    "    return op.results[0].summary\n",
    "    # return {\"stock_code\": stock_code, \"news\": op.results[0].summary}\n",
    "    "
   ]
  },
  {
   "cell_type": "code",
   "execution_count": 56,
   "id": "406c8ea6",
   "metadata": {},
   "outputs": [],
   "source": [
    "get_stock_tool = Tool.from_function(\n",
    "    name=\"search\",\n",
    "    description=\"useful when you need to get the top 3 news for the company\",\n",
    "    func=get_stock_symbol\n",
    ")"
   ]
  },
  {
   "cell_type": "code",
   "execution_count": 57,
   "id": "513043c4",
   "metadata": {},
   "outputs": [],
   "source": [
    "news_tool = Tool.from_function(\n",
    "    name=\"news\",\n",
    "    description=\"useful when you need to get the top 3 news for the company\",\n",
    "    func=get_news\n",
    ")"
   ]
  },
  {
   "cell_type": "code",
   "execution_count": 45,
   "id": "734a6dd5",
   "metadata": {},
   "outputs": [],
   "source": [
    "prompt_template = \"\"\"Get the sentiment of company {company_name}, stock code {stock_code} from the news summary {news}. Also, Extract named entities: people, places, other companies.\n",
    "Provide a structured JSON with the following fields:\n",
    "{{\n",
    "\"company_name\": \"\",\n",
    "\"stock_code\": \"\",\n",
    "\"newsdesc\": \"\",\n",
    "\"sentiment\": \"Positive/Negative/Neutral\",\n",
    "\"people_names\": [],\n",
    "\"places_names\": [],\n",
    "\"other_companies_referred\": [],\n",
    "\"related_industries\": [],\n",
    "\"market_implications\": \"\",\n",
    "\"confidence_score\": 0.0\n",
    "}}\n",
    "\"\"\"\n",
    "\n",
    "prompt = ChatPromptTemplate.from_template(prompt_template)\n"
   ]
  },
  {
   "cell_type": "code",
   "execution_count": 10,
   "id": "13babb51",
   "metadata": {},
   "outputs": [
    {
     "name": "stderr",
     "output_type": "stream",
     "text": [
      "2025/09/21 12:27:23 INFO mlflow.store.model_registry.abstract_store: Waiting up to 300 seconds for prompt version to finish creation. Prompt name: stock-sentiment, version 1\n"
     ]
    }
   ],
   "source": [
    "prompt = mlflow.genai.register_prompt(\n",
    "    name = \"stock-sentiment\",\n",
    "    template = prompt_template,\n",
    "    tags = {\n",
    "        \"author\": \"Gaurav\"\n",
    "    }\n",
    ")"
   ]
  },
  {
   "cell_type": "code",
   "execution_count": 46,
   "id": "e3b9b3ca",
   "metadata": {},
   "outputs": [],
   "source": [
    "parser = JsonOutputParser()\n",
    "# parser.invoke(test_res)\n"
   ]
  },
  {
   "cell_type": "code",
   "execution_count": 58,
   "id": "aeba46d8",
   "metadata": {},
   "outputs": [
    {
     "name": "stderr",
     "output_type": "stream",
     "text": [
      "2025/09/21 17:06:31 WARNING mlflow.tracing.export.mlflow_v3: Failed to log span to MLflow backend: INTERNAL_ERROR: Response: {'detail': 'REST OTLP span logging is not supported by FileStore'}\n",
      "2025/09/21 17:06:31 WARNING mlflow.tracing.export.mlflow_v3: Failed to log span to MLflow backend: INTERNAL_ERROR: Response: {'detail': 'REST OTLP span logging is not supported by FileStore'}\n"
     ]
    },
    {
     "name": "stdout",
     "output_type": "stream",
     "text": [
      "Top news for APPLE\n"
     ]
    },
    {
     "name": "stderr",
     "output_type": "stream",
     "text": [
      "2025/09/21 17:06:36 WARNING mlflow.tracing.export.mlflow_v3: Failed to log span to MLflow backend: INTERNAL_ERROR: Response: {'detail': 'REST OTLP span logging is not supported by FileStore'}\n",
      "2025/09/21 17:06:36 WARNING mlflow.tracing.export.mlflow_v3: Failed to log span to MLflow backend: INTERNAL_ERROR: Response: {'detail': 'REST OTLP span logging is not supported by FileStore'}\n",
      "2025/09/21 17:06:36 WARNING mlflow.tracing.export.mlflow_v3: Failed to log span to MLflow backend: INTERNAL_ERROR: Response: {'detail': 'REST OTLP span logging is not supported by FileStore'}\n",
      "2025/09/21 17:06:36 WARNING mlflow.tracing.export.mlflow_v3: Failed to log span to MLflow backend: INTERNAL_ERROR: Response: {'detail': 'REST OTLP span logging is not supported by FileStore'}\n",
      "2025/09/21 17:06:37 WARNING mlflow.tracing.export.mlflow_v3: Failed to log span to MLflow backend: INTERNAL_ERROR: Response: {'detail': 'REST OTLP span logging is not supported by FileStore'}\n",
      "2025/09/21 17:06:39 WARNING mlflow.tracing.export.mlflow_v3: Failed to log span to MLflow backend: INTERNAL_ERROR: Response: {'detail': 'REST OTLP span logging is not supported by FileStore'}\n",
      "2025/09/21 17:06:39 WARNING mlflow.tracing.export.mlflow_v3: Failed to log span to MLflow backend: INTERNAL_ERROR: Response: {'detail': 'REST OTLP span logging is not supported by FileStore'}\n",
      "2025/09/21 17:06:39 WARNING mlflow.tracing.export.mlflow_v3: Failed to log span to MLflow backend: INTERNAL_ERROR: Response: {'detail': 'REST OTLP span logging is not supported by FileStore'}\n"
     ]
    },
    {
     "name": "stdout",
     "output_type": "stream",
     "text": [
      "{'company_name': 'Apple', 'stock_code': 'AAPL', 'newsdesc': \"Apple's iPhone 17 models are now available in Moscow stores, despite the company's official sales ban in Russia. This news appeared on benzinga.com on September 21, 2025.\", 'sentiment': 'Neutral', 'people_names': [], 'places_names': ['Moscow', 'Russia'], 'other_companies_referred': [], 'related_industries': ['Technology', 'Consumer Electronics'], 'market_implications': \"The availability of Apple products in Russia despite the sales ban could have several market implications. It could indicate a potential gray market for Apple products, impacting official sales channels. It could also be seen as a sign of continued demand for Apple products in Russia, even under sanctions. This could lead to potential re-evaluation of Apple's official stance on sales in Russia in the future. If apple is not involved, it may indicate some illegal activities which can lead to negative perception of the brand.\", 'confidence_score': 0.8}\n"
     ]
    },
    {
     "data": {
      "text/html": [
       "\n",
       "<div>\n",
       "  <style scoped>\n",
       "  button {\n",
       "    border: none;\n",
       "    border-radius: 4px;\n",
       "    background-color: rgb(34, 114, 180);\n",
       "    font-family: -apple-system, \"system-ui\", \"Segoe UI\", Roboto, \"Helvetica Neue\", Arial;\n",
       "    font-size: 13px;\n",
       "    color: white;\n",
       "    margin-top: 8px;\n",
       "    margin-bottom: 8px;\n",
       "    padding: 8px 16px;\n",
       "    cursor: pointer;\n",
       "  }\n",
       "  button:hover {\n",
       "    background-color: rgb(66, 153, 224);\n",
       "  }\n",
       "  </style>\n",
       "  <button\n",
       "    onclick=\"\n",
       "        const display = this.nextElementSibling.style.display;\n",
       "        const isCollapsed = display === 'none';\n",
       "        this.nextElementSibling.style.display = isCollapsed ? null : 'none';\n",
       "\n",
       "        const verb = isCollapsed ? 'Collapse' : 'Expand';\n",
       "        this.innerText = `${verb} MLflow Trace`;\n",
       "    \"\n",
       "  >Collapse MLflow Trace</button>\n",
       "  <iframe\n",
       "    id=\"trace-renderer\"\n",
       "    style=\"width: 100%; height: 500px; border: none; resize: vertical;\"\n",
       "    src=\"http://127.0.0.1:5000/static-files/lib/notebook-trace-renderer/index.html?trace_id=tr-6890b7a3310f76c4ef5863792d5d1eee&amp;experiment_id=688605823153491612&amp;version=3.4.0\"\n",
       "  />\n",
       "</div>\n"
      ],
      "text/plain": [
       "Trace(trace_id=tr-6890b7a3310f76c4ef5863792d5d1eee)"
      ]
     },
     "metadata": {},
     "output_type": "display_data"
    }
   ],
   "source": [
    "chain = RunnablePassthrough.assign( stock_code=get_stock_tool, news=news_tool) | prompt | model | parser\n",
    "ans = chain.invoke({\"company_name\": \"APPLE\"})\n",
    "print(ans)"
   ]
  },
  {
   "cell_type": "code",
   "execution_count": null,
   "id": "5b789582",
   "metadata": {},
   "outputs": [],
   "source": [
    "\n",
    "mlflow.log_params({\"model\": \"gemini-2.0-flash\"})\n",
    "mlflow.log_params({\"parser\": \"json\"})\n",
    "mlflow.log_params({\"prompt\": prompt})\n",
    "mlflow.log_params({\"company_name\": \"GOOGLE\"})\n",
    "mlflow.log_metrics({\"accuracy\": 0.95})"
   ]
  }
 ],
 "metadata": {
  "kernelspec": {
   "display_name": "CrewAI Environment",
   "language": "python",
   "name": "crew_venv"
  },
  "language_info": {
   "codemirror_mode": {
    "name": "ipython",
    "version": 3
   },
   "file_extension": ".py",
   "mimetype": "text/x-python",
   "name": "python",
   "nbconvert_exporter": "python",
   "pygments_lexer": "ipython3",
   "version": "3.12.2"
  }
 },
 "nbformat": 4,
 "nbformat_minor": 5
}
